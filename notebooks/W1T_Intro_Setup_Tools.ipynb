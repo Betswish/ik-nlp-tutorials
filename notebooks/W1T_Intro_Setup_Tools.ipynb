{
 "cells": [
  {
   "cell_type": "markdown",
   "metadata": {},
   "source": [
    "# Welcome to the IK-NLP Course! 🎉\n",
    "\n",
    "These lab sessions are designed to help you follow along with the contents presented during the lectures, and introduce you to the skills and tools needed to complete the final projects."
   ]
  },
  {
   "cell_type": "markdown",
   "metadata": {},
   "source": [
    "### What to expect?\n",
    "\n",
    "The lab sessions will be a mixture of tutorials and exercises. The **tutorials** will present modern frameworks and tools to implement advanced NLP analyses and pipelines. The **exercises** are designed to teach you the skills needed for final projects. Here is a brief overview of the schedule:"
   ]
  },
  {
   "cell_type": "markdown",
   "metadata": {},
   "source": [
    "| Week | Lecture topic                            | Lab Tutorial                                                                      | Lab Exercise                                                                      |\n",
    "|------|------------------------------------------|-------------------------------------------------------------------------------|-------------------------------------------------------------------------------|\n",
    "| 1    | Introduction to NLP                      | [Intro, Setup work environment and team creation](W1T_Intro_Setup_Tools.ipynb)    | -                                                                             |\n",
    "| 2    | The Evolution of Language Modeling       | [Intro to 🤗 Transformers and Datasets](W2T_Intro_Transformers_Datasets.ipynb) | [🤗 Pipelines for semantic similarity search and QA](W2E_Pipelines.ipynb)      |\n",
    "| 3    | Looking for Words                        | [Introduction to spaCy](W3T_Intro_Spacy.ipynb)                                | [Training a lexicon-based transduction model](W3E_Lexicon_Transduction.ipynb) |\n",
    "| 4    | Labeling Sequences                       | [Text tagging with spaCy and 🤗 Transformers](W4T_Text_Tagging.ipynb)           | [Non-textual information for NLP](W4E_NonTextual_Information.ipynb)           |\n",
    "| 5    | Trees of Words                           | [Dependency parsing with spaCy](W5T_Dependency_Parsing.ipynb)                 | -                                                                             |\n",
    "| 6    | Encode and Decode                        | **Optional**: Training with 🤗 Transformers                                    | -                                                                             |\n",
    "| 7    | Transfer Learning & Opening the Blackbox | -                                                                             | -                                                                             |"
   ]
  },
  {
   "cell_type": "markdown",
   "metadata": {},
   "source": [
    "Some notes:\n",
    "\n",
    "- The core contents are covered in the first few weeks of the course to kickstart your work. Exercise sessions are dropped from week 5 onwards to allow you to focus on the final project.\n",
    "\n",
    "- Participation to the lab sessions is **highly encouraged**, as they offer you a chance to ask questions related to the midterm portfolio and/or the final projects.\n",
    "\n",
    "- The tutorial session for week 6 can be relevant to many project and will be covered upon request."
   ]
  },
  {
   "cell_type": "markdown",
   "metadata": {},
   "source": [
    "### Tools and Frameworks\n",
    "\n",
    "The lab sessions make use of the [Jupyter](https://jupyter.org/) environment. You can use the following links to get started:\n",
    "\n",
    "- [Jupyter Notebook/Lab Installation](https://jupyter.org/install)\n",
    "- [Jupyter Quickstart](https://docs.jupyter.org/en/latest/running.html)\n",
    "\n",
    "Alternatively, it is possible to use the notebooks via the [Google Colab](https://colab.research.google.com/) web environment simply by clicking on the [![Open In Colab](https://colab.research.google.com/assets/colab-badge.svg)]() button at the beginning of each notebook. If you’re running on Windows, we recommend following along using a Colab notebook. If you’re using a Linux distribution or macOS, you can use either approach described here. For an intro to the Colab environment, refer to:\n",
    "\n",
    "- [Colab Quickstart](https://colab.research.google.com/notebooks/intro.ipynb)\n",
    "\n",
    "Since the lab session will introduce you to OSS libraries such as [spaCy](https://spacy.io/), [Scikit-learn](https://scikit-learn.org), [🤗 Transformers](https://huggingface.co/transformers/) and [🤗 Datasets](https://huggingface.co/docs/datasets/), most of the material is simply adapted from the official tutorials and docs. Here is a non-exhaustive list of the most relevant sources for additional reference:\n",
    "\n",
    "- [Advanced NLP with spaCy](https://course.spacy.io/en)\n",
    "- [spaCy Linguistic Features](https://spacy.io/usage/linguistic-features)\n",
    "- [HuggingFace Course, Chapter 1](https://huggingface.co/course/chapter1/1)\n",
    "- [HuggingFace Transformers Docs](https://huggingface.co/docs/transformers/index)\n",
    "- [HuggingFace Datasets Docs](https://huggingface.co/docs/datasets/)\n",
    "- [Scikit-learn \"Working with Text Data\" Tutorial](https://scikit-learn.org/stable/tutorial/text_analytics/working_with_text_data.html#tutorial-setup)\n",
    "- [NLP class materials by Dirk Hovy](https://github.com/dirkhovy/NLPclass)"
   ]
  },
  {
   "cell_type": "markdown",
   "metadata": {},
   "source": [
    "The file `requirements.txt` in this repository contains the list of all the packages required to run the lab sessions. You can create a Python virtual environment (Python>=3.6) and install them using the following command:\n",
    "\n",
    "```shell\n",
    "python -m venv venv\n",
    "source venv/bin/activate\n",
    "pip install -r requirements.txt\n",
    "```\n",
    "\n",
    "Make sure the virtual environment is activated before running Jupyter. If you are using Colab, simply run the cell at the beginning of each notebook to install the required packages. Refer to [Using a Python Virtual Environment](https://huggingface.co/course/chapter0/1#using-a-python-virtual-environment) for more details on how to create and activate a virtual environment."
   ]
  }
 ],
 "metadata": {
  "language_info": {
   "name": "python"
  },
  "orig_nbformat": 4
 },
 "nbformat": 4,
 "nbformat_minor": 2
}
